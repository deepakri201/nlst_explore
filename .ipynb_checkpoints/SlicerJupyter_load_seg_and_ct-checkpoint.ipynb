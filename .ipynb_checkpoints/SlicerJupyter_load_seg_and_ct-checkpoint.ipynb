{
 "cells": [
  {
   "cell_type": "code",
   "execution_count": null,
   "id": "a4af390d-788e-4df6-9d8b-0c623455cb78",
   "metadata": {},
   "outputs": [],
   "source": [
    "# https://medium.com/john-lewis-software-engineering/authenticating-jupyter-notebook-against-bigquery-957884f78527"
   ]
  },
  {
   "cell_type": "code",
   "execution_count": 60,
   "id": "c7767643",
   "metadata": {},
   "outputs": [
    {
     "name": "stdout",
     "output_type": "stream",
     "text": [
      "Requirement already satisfied: google-cloud in c:\\users\\deepa\\appdata\\local\\slicer.org\\slicer 5.5.0-2023-08-19\\lib\\python\\lib\\site-packages (0.34.0)\n",
      "\n",
      "[notice] A new release of pip is available: 23.1.2 -> 23.2.1\n",
      "[notice] To update, run: python-real.exe -m pip install --upgrade pip\n",
      "Requirement already satisfied: google-cloud-bigquery in c:\\users\\deepa\\appdata\\local\\slicer.org\\slicer 5.5.0-2023-08-19\\lib\\python\\lib\\site-packages (3.11.4)\n",
      "Requirement already satisfied: grpcio<2.0dev,>=1.47.0 in c:\\users\\deepa\\appdata\\local\\slicer.org\\slicer 5.5.0-2023-08-19\\lib\\python\\lib\\site-packages (from google-cloud-bigquery) (1.58.0)\n",
      "Requirement already satisfied: google-api-core[grpc]!=2.0.*,!=2.1.*,!=2.2.*,!=2.3.0,<3.0.0dev,>=1.31.5 in c:\\users\\deepa\\appdata\\local\\slicer.org\\slicer 5.5.0-2023-08-19\\lib\\python\\lib\\site-packages (from google-cloud-bigquery) (2.11.1)\n",
      "Requirement already satisfied: proto-plus<2.0.0dev,>=1.15.0 in c:\\users\\deepa\\appdata\\local\\slicer.org\\slicer 5.5.0-2023-08-19\\lib\\python\\lib\\site-packages (from google-cloud-bigquery) (1.22.3)\n",
      "Requirement already satisfied: google-cloud-core<3.0.0dev,>=1.6.0 in c:\\users\\deepa\\appdata\\local\\slicer.org\\slicer 5.5.0-2023-08-19\\lib\\python\\lib\\site-packages (from google-cloud-bigquery) (2.3.3)\n",
      "Requirement already satisfied: google-resumable-media<3.0dev,>=0.6.0 in c:\\users\\deepa\\appdata\\local\\slicer.org\\slicer 5.5.0-2023-08-19\\lib\\python\\lib\\site-packages (from google-cloud-bigquery) (2.6.0)\n",
      "Requirement already satisfied: packaging>=20.0.0 in c:\\users\\deepa\\appdata\\local\\slicer.org\\slicer 5.5.0-2023-08-19\\lib\\python\\lib\\site-packages (from google-cloud-bigquery) (23.1)\n",
      "Requirement already satisfied: protobuf!=3.20.0,!=3.20.1,!=4.21.0,!=4.21.1,!=4.21.2,!=4.21.3,!=4.21.4,!=4.21.5,<5.0.0dev,>=3.19.5 in c:\\users\\deepa\\appdata\\local\\slicer.org\\slicer 5.5.0-2023-08-19\\lib\\python\\lib\\site-packages (from google-cloud-bigquery) (4.24.3)\n",
      "Requirement already satisfied: python-dateutil<3.0dev,>=2.7.2 in c:\\users\\deepa\\appdata\\local\\slicer.org\\slicer 5.5.0-2023-08-19\\lib\\python\\lib\\site-packages (from google-cloud-bigquery) (2.8.2)\n",
      "Requirement already satisfied: requests<3.0.0dev,>=2.21.0 in c:\\users\\deepa\\appdata\\local\\slicer.org\\slicer 5.5.0-2023-08-19\\lib\\python\\lib\\site-packages (from google-cloud-bigquery) (2.31.0)\n",
      "Requirement already satisfied: googleapis-common-protos<2.0.dev0,>=1.56.2 in c:\\users\\deepa\\appdata\\local\\slicer.org\\slicer 5.5.0-2023-08-19\\lib\\python\\lib\\site-packages (from google-api-core[grpc]!=2.0.*,!=2.1.*,!=2.2.*,!=2.3.0,<3.0.0dev,>=1.31.5->google-cloud-bigquery) (1.60.0)\n",
      "Requirement already satisfied: google-auth<3.0.dev0,>=2.14.1 in c:\\users\\deepa\\appdata\\local\\slicer.org\\slicer 5.5.0-2023-08-19\\lib\\python\\lib\\site-packages (from google-api-core[grpc]!=2.0.*,!=2.1.*,!=2.2.*,!=2.3.0,<3.0.0dev,>=1.31.5->google-cloud-bigquery) (2.22.0)\n",
      "Requirement already satisfied: grpcio-status<2.0.dev0,>=1.33.2 in c:\\users\\deepa\\appdata\\local\\slicer.org\\slicer 5.5.0-2023-08-19\\lib\\python\\lib\\site-packages (from google-api-core[grpc]!=2.0.*,!=2.1.*,!=2.2.*,!=2.3.0,<3.0.0dev,>=1.31.5->google-cloud-bigquery) (1.58.0)\n",
      "Requirement already satisfied: google-crc32c<2.0dev,>=1.0 in c:\\users\\deepa\\appdata\\local\\slicer.org\\slicer 5.5.0-2023-08-19\\lib\\python\\lib\\site-packages (from google-resumable-media<3.0dev,>=0.6.0->google-cloud-bigquery) (1.5.0)\n",
      "Requirement already satisfied: six>=1.5 in c:\\users\\deepa\\appdata\\local\\slicer.org\\slicer 5.5.0-2023-08-19\\lib\\python\\lib\\site-packages (from python-dateutil<3.0dev,>=2.7.2->google-cloud-bigquery) (1.16.0)\n",
      "Requirement already satisfied: charset-normalizer<4,>=2 in c:\\users\\deepa\\appdata\\local\\slicer.org\\slicer 5.5.0-2023-08-19\\lib\\python\\lib\\site-packages (from requests<3.0.0dev,>=2.21.0->google-cloud-bigquery) (3.2.0)\n",
      "Requirement already satisfied: idna<4,>=2.5 in c:\\users\\deepa\\appdata\\local\\slicer.org\\slicer 5.5.0-2023-08-19\\lib\\python\\lib\\site-packages (from requests<3.0.0dev,>=2.21.0->google-cloud-bigquery) (3.4)\n",
      "Requirement already satisfied: urllib3<3,>=1.21.1 in c:\\users\\deepa\\appdata\\local\\slicer.org\\slicer 5.5.0-2023-08-19\\lib\\python\\lib\\site-packages (from requests<3.0.0dev,>=2.21.0->google-cloud-bigquery) (1.26.16)\n",
      "Requirement already satisfied: certifi>=2017.4.17 in c:\\users\\deepa\\appdata\\local\\slicer.org\\slicer 5.5.0-2023-08-19\\lib\\python\\lib\\site-packages (from requests<3.0.0dev,>=2.21.0->google-cloud-bigquery) (2023.5.7)\n",
      "Requirement already satisfied: cachetools<6.0,>=2.0.0 in c:\\users\\deepa\\appdata\\local\\slicer.org\\slicer 5.5.0-2023-08-19\\lib\\python\\lib\\site-packages (from google-auth<3.0.dev0,>=2.14.1->google-api-core[grpc]!=2.0.*,!=2.1.*,!=2.2.*,!=2.3.0,<3.0.0dev,>=1.31.5->google-cloud-bigquery) (5.3.1)\n",
      "Requirement already satisfied: pyasn1-modules>=0.2.1 in c:\\users\\deepa\\appdata\\local\\slicer.org\\slicer 5.5.0-2023-08-19\\lib\\python\\lib\\site-packages (from google-auth<3.0.dev0,>=2.14.1->google-api-core[grpc]!=2.0.*,!=2.1.*,!=2.2.*,!=2.3.0,<3.0.0dev,>=1.31.5->google-cloud-bigquery) (0.3.0)\n",
      "Requirement already satisfied: rsa<5,>=3.1.4 in c:\\users\\deepa\\appdata\\local\\slicer.org\\slicer 5.5.0-2023-08-19\\lib\\python\\lib\\site-packages (from google-auth<3.0.dev0,>=2.14.1->google-api-core[grpc]!=2.0.*,!=2.1.*,!=2.2.*,!=2.3.0,<3.0.0dev,>=1.31.5->google-cloud-bigquery) (4.9)\n",
      "Requirement already satisfied: pyasn1<0.6.0,>=0.4.6 in c:\\users\\deepa\\appdata\\local\\slicer.org\\slicer 5.5.0-2023-08-19\\lib\\python\\lib\\site-packages (from pyasn1-modules>=0.2.1->google-auth<3.0.dev0,>=2.14.1->google-api-core[grpc]!=2.0.*,!=2.1.*,!=2.2.*,!=2.3.0,<3.0.0dev,>=1.31.5->google-cloud-bigquery) (0.5.0)\n",
      "\n",
      "[notice] A new release of pip is available: 23.1.2 -> 23.2.1\n",
      "[notice] To update, run: python-real.exe -m pip install --upgrade pip\n",
      "Requirement already satisfied: google-cloud-storage in c:\\users\\deepa\\appdata\\local\\slicer.org\\slicer 5.5.0-2023-08-19\\lib\\python\\lib\\site-packages (2.10.0)\n",
      "Requirement already satisfied: google-auth<3.0dev,>=1.25.0 in c:\\users\\deepa\\appdata\\local\\slicer.org\\slicer 5.5.0-2023-08-19\\lib\\python\\lib\\site-packages (from google-cloud-storage) (2.22.0)\n",
      "Requirement already satisfied: google-api-core!=2.0.*,!=2.1.*,!=2.2.*,!=2.3.0,<3.0.0dev,>=1.31.5 in c:\\users\\deepa\\appdata\\local\\slicer.org\\slicer 5.5.0-2023-08-19\\lib\\python\\lib\\site-packages (from google-cloud-storage) (2.11.1)\n",
      "Requirement already satisfied: google-cloud-core<3.0dev,>=2.3.0 in c:\\users\\deepa\\appdata\\local\\slicer.org\\slicer 5.5.0-2023-08-19\\lib\\python\\lib\\site-packages (from google-cloud-storage) (2.3.3)\n",
      "Requirement already satisfied: google-resumable-media>=2.3.2 in c:\\users\\deepa\\appdata\\local\\slicer.org\\slicer 5.5.0-2023-08-19\\lib\\python\\lib\\site-packages (from google-cloud-storage) (2.6.0)\n",
      "Requirement already satisfied: requests<3.0.0dev,>=2.18.0 in c:\\users\\deepa\\appdata\\local\\slicer.org\\slicer 5.5.0-2023-08-19\\lib\\python\\lib\\site-packages (from google-cloud-storage) (2.31.0)\n",
      "Requirement already satisfied: googleapis-common-protos<2.0.dev0,>=1.56.2 in c:\\users\\deepa\\appdata\\local\\slicer.org\\slicer 5.5.0-2023-08-19\\lib\\python\\lib\\site-packages (from google-api-core!=2.0.*,!=2.1.*,!=2.2.*,!=2.3.0,<3.0.0dev,>=1.31.5->google-cloud-storage) (1.60.0)\n",
      "Requirement already satisfied: protobuf!=3.20.0,!=3.20.1,!=4.21.0,!=4.21.1,!=4.21.2,!=4.21.3,!=4.21.4,!=4.21.5,<5.0.0.dev0,>=3.19.5 in c:\\users\\deepa\\appdata\\local\\slicer.org\\slicer 5.5.0-2023-08-19\\lib\\python\\lib\\site-packages (from google-api-core!=2.0.*,!=2.1.*,!=2.2.*,!=2.3.0,<3.0.0dev,>=1.31.5->google-cloud-storage) (4.24.3)\n",
      "Requirement already satisfied: cachetools<6.0,>=2.0.0 in c:\\users\\deepa\\appdata\\local\\slicer.org\\slicer 5.5.0-2023-08-19\\lib\\python\\lib\\site-packages (from google-auth<3.0dev,>=1.25.0->google-cloud-storage) (5.3.1)\n",
      "Requirement already satisfied: pyasn1-modules>=0.2.1 in c:\\users\\deepa\\appdata\\local\\slicer.org\\slicer 5.5.0-2023-08-19\\lib\\python\\lib\\site-packages (from google-auth<3.0dev,>=1.25.0->google-cloud-storage) (0.3.0)\n",
      "Requirement already satisfied: rsa<5,>=3.1.4 in c:\\users\\deepa\\appdata\\local\\slicer.org\\slicer 5.5.0-2023-08-19\\lib\\python\\lib\\site-packages (from google-auth<3.0dev,>=1.25.0->google-cloud-storage) (4.9)\n",
      "Requirement already satisfied: six>=1.9.0 in c:\\users\\deepa\\appdata\\local\\slicer.org\\slicer 5.5.0-2023-08-19\\lib\\python\\lib\\site-packages (from google-auth<3.0dev,>=1.25.0->google-cloud-storage) (1.16.0)\n",
      "Requirement already satisfied: urllib3<2.0 in c:\\users\\deepa\\appdata\\local\\slicer.org\\slicer 5.5.0-2023-08-19\\lib\\python\\lib\\site-packages (from google-auth<3.0dev,>=1.25.0->google-cloud-storage) (1.26.16)\n",
      "Requirement already satisfied: google-crc32c<2.0dev,>=1.0 in c:\\users\\deepa\\appdata\\local\\slicer.org\\slicer 5.5.0-2023-08-19\\lib\\python\\lib\\site-packages (from google-resumable-media>=2.3.2->google-cloud-storage) (1.5.0)\n",
      "Requirement already satisfied: charset-normalizer<4,>=2 in c:\\users\\deepa\\appdata\\local\\slicer.org\\slicer 5.5.0-2023-08-19\\lib\\python\\lib\\site-packages (from requests<3.0.0dev,>=2.18.0->google-cloud-storage) (3.2.0)\n",
      "Requirement already satisfied: idna<4,>=2.5 in c:\\users\\deepa\\appdata\\local\\slicer.org\\slicer 5.5.0-2023-08-19\\lib\\python\\lib\\site-packages (from requests<3.0.0dev,>=2.18.0->google-cloud-storage) (3.4)\n",
      "Requirement already satisfied: certifi>=2017.4.17 in c:\\users\\deepa\\appdata\\local\\slicer.org\\slicer 5.5.0-2023-08-19\\lib\\python\\lib\\site-packages (from requests<3.0.0dev,>=2.18.0->google-cloud-storage) (2023.5.7)\n",
      "Requirement already satisfied: pyasn1<0.6.0,>=0.4.6 in c:\\users\\deepa\\appdata\\local\\slicer.org\\slicer 5.5.0-2023-08-19\\lib\\python\\lib\\site-packages (from pyasn1-modules>=0.2.1->google-auth<3.0dev,>=1.25.0->google-cloud-storage) (0.5.0)\n",
      "\n",
      "[notice] A new release of pip is available: 23.1.2 -> 23.2.1\n",
      "[notice] To update, run: python-real.exe -m pip install --upgrade pip\n",
      "Requirement already satisfied: db-dtypes in c:\\users\\deepa\\appdata\\local\\slicer.org\\slicer 5.5.0-2023-08-19\\lib\\python\\lib\\site-packages (1.1.1)\n",
      "Requirement already satisfied: packaging>=17.0 in c:\\users\\deepa\\appdata\\local\\slicer.org\\slicer 5.5.0-2023-08-19\\lib\\python\\lib\\site-packages (from db-dtypes) (23.1)\n",
      "Requirement already satisfied: pandas>=0.24.2 in c:\\users\\deepa\\appdata\\local\\slicer.org\\slicer 5.5.0-2023-08-19\\lib\\python\\lib\\site-packages (from db-dtypes) (2.1.0)\n",
      "Requirement already satisfied: pyarrow>=3.0.0 in c:\\users\\deepa\\appdata\\local\\slicer.org\\slicer 5.5.0-2023-08-19\\lib\\python\\lib\\site-packages (from db-dtypes) (13.0.0)\n",
      "Requirement already satisfied: numpy>=1.16.6 in c:\\users\\deepa\\appdata\\local\\slicer.org\\slicer 5.5.0-2023-08-19\\lib\\python\\lib\\site-packages (from db-dtypes) (1.25.1)\n",
      "Requirement already satisfied: python-dateutil>=2.8.2 in c:\\users\\deepa\\appdata\\local\\slicer.org\\slicer 5.5.0-2023-08-19\\lib\\python\\lib\\site-packages (from pandas>=0.24.2->db-dtypes) (2.8.2)\n",
      "Requirement already satisfied: pytz>=2020.1 in c:\\users\\deepa\\appdata\\local\\slicer.org\\slicer 5.5.0-2023-08-19\\lib\\python\\lib\\site-packages (from pandas>=0.24.2->db-dtypes) (2023.3.post1)\n",
      "Requirement already satisfied: tzdata>=2022.1 in c:\\users\\deepa\\appdata\\local\\slicer.org\\slicer 5.5.0-2023-08-19\\lib\\python\\lib\\site-packages (from pandas>=0.24.2->db-dtypes) (2023.3)\n",
      "Requirement already satisfied: six>=1.5 in c:\\users\\deepa\\appdata\\local\\slicer.org\\slicer 5.5.0-2023-08-19\\lib\\python\\lib\\site-packages (from python-dateutil>=2.8.2->pandas>=0.24.2->db-dtypes) (1.16.0)\n",
      "\n",
      "[notice] A new release of pip is available: 23.1.2 -> 23.2.1\n",
      "[notice] To update, run: python-real.exe -m pip install --upgrade pip\n"
     ]
    }
   ],
   "source": [
    "import os \n",
    "import sys \n",
    "from DICOMLib import DICOMPlugin\n",
    "import vtk, qt, ctk, slicer\n",
    "\n",
    "import DicomRtImportExportPlugin\n",
    "import DICOMwebBrowser\n",
    "from DICOMwebBrowser import GoogleCloudPlatform\n",
    "\n",
    "import dicomweb_client.log\n",
    "dicomweb_client.log.configure_logging(2)\n",
    "from dicomweb_client.api import DICOMwebClient\n",
    "\n",
    "from DICOMLib import DICOMUtils\n",
    "\n",
    "import pydicom \n",
    "\n",
    "from slicer.util import pip_install\n",
    "pip_install(\"google-cloud\")\n",
    "pip_install(\"google-cloud-bigquery\")\n",
    "pip_install(\"google-cloud-storage\")\n",
    "pip_install (\"db-dtypes\")\n",
    "\n",
    "from google.cloud import bigquery\n",
    "from google.cloud import storage\n",
    "import db_dtypes"
   ]
  },
  {
   "cell_type": "code",
   "execution_count": 33,
   "id": "98bca669-e592-44c5-af7e-e840147501f4",
   "metadata": {},
   "outputs": [],
   "source": [
    "%load_ext google.cloud.bigquery"
   ]
  },
  {
   "cell_type": "code",
   "execution_count": 35,
   "id": "5c778396-92f0-4895-82ac-774814b6bc56",
   "metadata": {},
   "outputs": [
    {
     "name": "stdout",
     "output_type": "stream",
     "text": [
      "env: GOOGLE_CLOUD_PROJECT=idc-external-025\n"
     ]
    }
   ],
   "source": [
    "%env GOOGLE_CLOUD_PROJECT=$project_id"
   ]
  },
  {
   "cell_type": "code",
   "execution_count": 21,
   "id": "c71aab9e-b6d2-4873-8964-b300fa00279f",
   "metadata": {},
   "outputs": [
    {
     "name": "stdout",
     "output_type": "stream",
     "text": [
      "Collecting pydata-google-auth\n",
      "  Downloading pydata_google_auth-1.8.2-py2.py3-none-any.whl (15 kB)\n",
      "Requirement already satisfied: google-cloud-bigquery[pandas] in c:\\users\\deepa\\appdata\\local\\slicer.org\\slicer 5.5.0-2023-08-19\\lib\\python\\lib\\site-packages (3.11.4)\n",
      "Requirement already satisfied: setuptools in c:\\users\\deepa\\appdata\\local\\slicer.org\\slicer 5.5.0-2023-08-19\\lib\\python\\lib\\site-packages (from pydata-google-auth) (68.0.0)\n",
      "Requirement already satisfied: google-auth<3.0dev,>=1.25.0 in c:\\users\\deepa\\appdata\\local\\slicer.org\\slicer 5.5.0-2023-08-19\\lib\\python\\lib\\site-packages (from pydata-google-auth) (2.22.0)\n",
      "Collecting google-auth-oauthlib>=0.4.0 (from pydata-google-auth)\n",
      "  Downloading google_auth_oauthlib-1.1.0-py2.py3-none-any.whl (19 kB)\n",
      "Requirement already satisfied: grpcio<2.0dev,>=1.47.0 in c:\\users\\deepa\\appdata\\local\\slicer.org\\slicer 5.5.0-2023-08-19\\lib\\python\\lib\\site-packages (from google-cloud-bigquery[pandas]) (1.58.0)\n",
      "Requirement already satisfied: google-api-core[grpc]!=2.0.*,!=2.1.*,!=2.2.*,!=2.3.0,<3.0.0dev,>=1.31.5 in c:\\users\\deepa\\appdata\\local\\slicer.org\\slicer 5.5.0-2023-08-19\\lib\\python\\lib\\site-packages (from google-cloud-bigquery[pandas]) (2.11.1)\n",
      "Requirement already satisfied: proto-plus<2.0.0dev,>=1.15.0 in c:\\users\\deepa\\appdata\\local\\slicer.org\\slicer 5.5.0-2023-08-19\\lib\\python\\lib\\site-packages (from google-cloud-bigquery[pandas]) (1.22.3)\n",
      "Requirement already satisfied: google-cloud-core<3.0.0dev,>=1.6.0 in c:\\users\\deepa\\appdata\\local\\slicer.org\\slicer 5.5.0-2023-08-19\\lib\\python\\lib\\site-packages (from google-cloud-bigquery[pandas]) (2.3.3)\n",
      "Requirement already satisfied: google-resumable-media<3.0dev,>=0.6.0 in c:\\users\\deepa\\appdata\\local\\slicer.org\\slicer 5.5.0-2023-08-19\\lib\\python\\lib\\site-packages (from google-cloud-bigquery[pandas]) (2.6.0)\n",
      "Requirement already satisfied: packaging>=20.0.0 in c:\\users\\deepa\\appdata\\local\\slicer.org\\slicer 5.5.0-2023-08-19\\lib\\python\\lib\\site-packages (from google-cloud-bigquery[pandas]) (23.1)\n",
      "Requirement already satisfied: protobuf!=3.20.0,!=3.20.1,!=4.21.0,!=4.21.1,!=4.21.2,!=4.21.3,!=4.21.4,!=4.21.5,<5.0.0dev,>=3.19.5 in c:\\users\\deepa\\appdata\\local\\slicer.org\\slicer 5.5.0-2023-08-19\\lib\\python\\lib\\site-packages (from google-cloud-bigquery[pandas]) (4.24.3)\n",
      "Requirement already satisfied: python-dateutil<3.0dev,>=2.7.2 in c:\\users\\deepa\\appdata\\local\\slicer.org\\slicer 5.5.0-2023-08-19\\lib\\python\\lib\\site-packages (from google-cloud-bigquery[pandas]) (2.8.2)\n",
      "Requirement already satisfied: requests<3.0.0dev,>=2.21.0 in c:\\users\\deepa\\appdata\\local\\slicer.org\\slicer 5.5.0-2023-08-19\\lib\\python\\lib\\site-packages (from google-cloud-bigquery[pandas]) (2.31.0)\n",
      "Requirement already satisfied: pandas>=1.1.0 in c:\\users\\deepa\\appdata\\local\\slicer.org\\slicer 5.5.0-2023-08-19\\lib\\python\\lib\\site-packages (from google-cloud-bigquery[pandas]) (2.1.0)\n",
      "Collecting pyarrow>=3.0.0 (from google-cloud-bigquery[pandas])\n",
      "  Downloading pyarrow-13.0.0-cp39-cp39-win_amd64.whl (24.4 MB)\n",
      "     --------------------------------------- 24.4/24.4 MB 10.9 MB/s eta 0:00:00\n",
      "Collecting db-dtypes<2.0.0dev,>=0.3.0 (from google-cloud-bigquery[pandas])\n",
      "  Downloading db_dtypes-1.1.1-py2.py3-none-any.whl (14 kB)\n",
      "Requirement already satisfied: numpy>=1.16.6 in c:\\users\\deepa\\appdata\\local\\slicer.org\\slicer 5.5.0-2023-08-19\\lib\\python\\lib\\site-packages (from db-dtypes<2.0.0dev,>=0.3.0->google-cloud-bigquery[pandas]) (1.25.1)\n",
      "Requirement already satisfied: googleapis-common-protos<2.0.dev0,>=1.56.2 in c:\\users\\deepa\\appdata\\local\\slicer.org\\slicer 5.5.0-2023-08-19\\lib\\python\\lib\\site-packages (from google-api-core[grpc]!=2.0.*,!=2.1.*,!=2.2.*,!=2.3.0,<3.0.0dev,>=1.31.5->google-cloud-bigquery[pandas]) (1.60.0)\n",
      "Requirement already satisfied: grpcio-status<2.0.dev0,>=1.33.2 in c:\\users\\deepa\\appdata\\local\\slicer.org\\slicer 5.5.0-2023-08-19\\lib\\python\\lib\\site-packages (from google-api-core[grpc]!=2.0.*,!=2.1.*,!=2.2.*,!=2.3.0,<3.0.0dev,>=1.31.5->google-cloud-bigquery[pandas]) (1.58.0)\n",
      "Requirement already satisfied: cachetools<6.0,>=2.0.0 in c:\\users\\deepa\\appdata\\local\\slicer.org\\slicer 5.5.0-2023-08-19\\lib\\python\\lib\\site-packages (from google-auth<3.0dev,>=1.25.0->pydata-google-auth) (5.3.1)\n",
      "Requirement already satisfied: pyasn1-modules>=0.2.1 in c:\\users\\deepa\\appdata\\local\\slicer.org\\slicer 5.5.0-2023-08-19\\lib\\python\\lib\\site-packages (from google-auth<3.0dev,>=1.25.0->pydata-google-auth) (0.3.0)\n",
      "Requirement already satisfied: rsa<5,>=3.1.4 in c:\\users\\deepa\\appdata\\local\\slicer.org\\slicer 5.5.0-2023-08-19\\lib\\python\\lib\\site-packages (from google-auth<3.0dev,>=1.25.0->pydata-google-auth) (4.9)\n",
      "Requirement already satisfied: six>=1.9.0 in c:\\users\\deepa\\appdata\\local\\slicer.org\\slicer 5.5.0-2023-08-19\\lib\\python\\lib\\site-packages (from google-auth<3.0dev,>=1.25.0->pydata-google-auth) (1.16.0)\n",
      "Requirement already satisfied: urllib3<2.0 in c:\\users\\deepa\\appdata\\local\\slicer.org\\slicer 5.5.0-2023-08-19\\lib\\python\\lib\\site-packages (from google-auth<3.0dev,>=1.25.0->pydata-google-auth) (1.26.16)\n",
      "Collecting requests-oauthlib>=0.7.0 (from google-auth-oauthlib>=0.4.0->pydata-google-auth)\n",
      "  Using cached requests_oauthlib-1.3.1-py2.py3-none-any.whl (23 kB)\n",
      "Requirement already satisfied: google-crc32c<2.0dev,>=1.0 in c:\\users\\deepa\\appdata\\local\\slicer.org\\slicer 5.5.0-2023-08-19\\lib\\python\\lib\\site-packages (from google-resumable-media<3.0dev,>=0.6.0->google-cloud-bigquery[pandas]) (1.5.0)\n",
      "Requirement already satisfied: pytz>=2020.1 in c:\\users\\deepa\\appdata\\local\\slicer.org\\slicer 5.5.0-2023-08-19\\lib\\python\\lib\\site-packages (from pandas>=1.1.0->google-cloud-bigquery[pandas]) (2023.3.post1)\n",
      "Requirement already satisfied: tzdata>=2022.1 in c:\\users\\deepa\\appdata\\local\\slicer.org\\slicer 5.5.0-2023-08-19\\lib\\python\\lib\\site-packages (from pandas>=1.1.0->google-cloud-bigquery[pandas]) (2023.3)\n",
      "Requirement already satisfied: charset-normalizer<4,>=2 in c:\\users\\deepa\\appdata\\local\\slicer.org\\slicer 5.5.0-2023-08-19\\lib\\python\\lib\\site-packages (from requests<3.0.0dev,>=2.21.0->google-cloud-bigquery[pandas]) (3.2.0)\n"
     ]
    }
   ],
   "source": [
    "!pip install --upgrade pydata-google-auth google-cloud-bigquery[pandas]"
   ]
  },
  {
   "cell_type": "code",
   "execution_count": 56,
   "id": "2942096e-dbee-491c-af6b-0209c9c2b9f9",
   "metadata": {},
   "outputs": [
    {
     "name": "stderr",
     "output_type": "stream",
     "text": []
    },
    {
     "name": "stderr",
     "output_type": "stream",
     "text": [
      "\n",
      "[notice] A new release of pip is available: 23.1.2 -> 23.2.1\n",
      "[notice] To update, run: C:\\Users\\deepa\\miniconda3\\python.exe -m pip install --upgrade pip\n"
     ]
    },
    {
     "name": "stdout",
     "output_type": "stream",
     "text": [
      "Requirement already satisfied: db_dtypes in c:\\users\\deepa\\appdata\\local\\slicer.org\\slicer 5.5.0-2023-08-19\\lib\\python\\lib\\site-packages (1.1.1)\n",
      "Requirement already satisfied: packaging>=17.0 in c:\\users\\deepa\\appdata\\local\\slicer.org\\slicer 5.5.0-2023-08-19\\lib\\python\\lib\\site-packages (from db_dtypes) (23.1)\n",
      "Requirement already satisfied: pandas>=0.24.2 in c:\\users\\deepa\\appdata\\local\\slicer.org\\slicer 5.5.0-2023-08-19\\lib\\python\\lib\\site-packages (from db_dtypes) (2.1.0)\n",
      "Requirement already satisfied: pyarrow>=3.0.0 in c:\\users\\deepa\\appdata\\local\\slicer.org\\slicer 5.5.0-2023-08-19\\lib\\python\\lib\\site-packages (from db_dtypes) (13.0.0)\n",
      "Requirement already satisfied: numpy>=1.16.6 in c:\\users\\deepa\\appdata\\local\\slicer.org\\slicer 5.5.0-2023-08-19\\lib\\python\\lib\\site-packages (from db_dtypes) (1.25.1)\n",
      "Requirement already satisfied: python-dateutil>=2.8.2 in c:\\users\\deepa\\appdata\\local\\slicer.org\\slicer 5.5.0-2023-08-19\\lib\\python\\lib\\site-packages (from pandas>=0.24.2->db_dtypes) (2.8.2)\n",
      "Requirement already satisfied: pytz>=2020.1 in c:\\users\\deepa\\appdata\\local\\slicer.org\\slicer 5.5.0-2023-08-19\\lib\\python\\lib\\site-packages (from pandas>=0.24.2->db_dtypes) (2023.3.post1)\n",
      "Requirement already satisfied: tzdata>=2022.1 in c:\\users\\deepa\\appdata\\local\\slicer.org\\slicer 5.5.0-2023-08-19\\lib\\python\\lib\\site-packages (from pandas>=0.24.2->db_dtypes) (2023.3)\n",
      "Requirement already satisfied: six>=1.5 in c:\\users\\deepa\\appdata\\local\\slicer.org\\slicer 5.5.0-2023-08-19\\lib\\python\\lib\\site-packages (from python-dateutil>=2.8.2->pandas>=0.24.2->db_dtypes) (1.16.0)\n"
     ]
    }
   ],
   "source": [
    "!pip install db_dtypes"
   ]
  },
  {
   "cell_type": "code",
   "execution_count": 50,
   "id": "eaf6957a-ccde-42ae-9585-711edeb84432",
   "metadata": {},
   "outputs": [
    {
     "name": "stderr",
     "output_type": "stream",
     "text": []
    },
    {
     "name": "stderr",
     "output_type": "stream",
     "text": [
      "\n",
      "[notice] A new release of pip is available: 23.1.2 -> 23.2.1\n",
      "[notice] To update, run: C:\\Users\\deepa\\miniconda3\\python.exe -m pip install --upgrade pip\n"
     ]
    },
    {
     "name": "stdout",
     "output_type": "stream",
     "text": [
      "Requirement already satisfied: google-cloud-bigquery-storage in c:\\users\\deepa\\appdata\\local\\slicer.org\\slicer 5.5.0-2023-08-19\\lib\\python\\lib\\site-packages (2.22.0)\n",
      "Requirement already satisfied: google-api-core[grpc]!=2.0.*,!=2.1.*,!=2.10.*,!=2.2.*,!=2.3.*,!=2.4.*,!=2.5.*,!=2.6.*,!=2.7.*,!=2.8.*,!=2.9.*,<3.0.0dev,>=1.34.0 in c:\\users\\deepa\\appdata\\local\\slicer.org\\slicer 5.5.0-2023-08-19\\lib\\python\\lib\\site-packages (from google-cloud-bigquery-storage) (2.11.1)\n",
      "Requirement already satisfied: proto-plus<2.0.0dev,>=1.22.0 in c:\\users\\deepa\\appdata\\local\\slicer.org\\slicer 5.5.0-2023-08-19\\lib\\python\\lib\\site-packages (from google-cloud-bigquery-storage) (1.22.3)\n",
      "Requirement already satisfied: protobuf!=3.20.0,!=3.20.1,!=4.21.0,!=4.21.1,!=4.21.2,!=4.21.3,!=4.21.4,!=4.21.5,<5.0.0dev,>=3.19.5 in c:\\users\\deepa\\appdata\\local\\slicer.org\\slicer 5.5.0-2023-08-19\\lib\\python\\lib\\site-packages (from google-cloud-bigquery-storage) (4.24.3)\n",
      "Requirement already satisfied: googleapis-common-protos<2.0.dev0,>=1.56.2 in c:\\users\\deepa\\appdata\\local\\slicer.org\\slicer 5.5.0-2023-08-19\\lib\\python\\lib\\site-packages (from google-api-core[grpc]!=2.0.*,!=2.1.*,!=2.10.*,!=2.2.*,!=2.3.*,!=2.4.*,!=2.5.*,!=2.6.*,!=2.7.*,!=2.8.*,!=2.9.*,<3.0.0dev,>=1.34.0->google-cloud-bigquery-storage) (1.60.0)\n",
      "Requirement already satisfied: google-auth<3.0.dev0,>=2.14.1 in c:\\users\\deepa\\appdata\\local\\slicer.org\\slicer 5.5.0-2023-08-19\\lib\\python\\lib\\site-packages (from google-api-core[grpc]!=2.0.*,!=2.1.*,!=2.10.*,!=2.2.*,!=2.3.*,!=2.4.*,!=2.5.*,!=2.6.*,!=2.7.*,!=2.8.*,!=2.9.*,<3.0.0dev,>=1.34.0->google-cloud-bigquery-storage) (2.22.0)\n",
      "Requirement already satisfied: requests<3.0.0.dev0,>=2.18.0 in c:\\users\\deepa\\appdata\\local\\slicer.org\\slicer 5.5.0-2023-08-19\\lib\\python\\lib\\site-packages (from google-api-core[grpc]!=2.0.*,!=2.1.*,!=2.10.*,!=2.2.*,!=2.3.*,!=2.4.*,!=2.5.*,!=2.6.*,!=2.7.*,!=2.8.*,!=2.9.*,<3.0.0dev,>=1.34.0->google-cloud-bigquery-storage) (2.31.0)\n",
      "Requirement already satisfied: grpcio<2.0dev,>=1.33.2 in c:\\users\\deepa\\appdata\\local\\slicer.org\\slicer 5.5.0-2023-08-19\\lib\\python\\lib\\site-packages (from google-api-core[grpc]!=2.0.*,!=2.1.*,!=2.10.*,!=2.2.*,!=2.3.*,!=2.4.*,!=2.5.*,!=2.6.*,!=2.7.*,!=2.8.*,!=2.9.*,<3.0.0dev,>=1.34.0->google-cloud-bigquery-storage) (1.58.0)\n",
      "Requirement already satisfied: grpcio-status<2.0.dev0,>=1.33.2 in c:\\users\\deepa\\appdata\\local\\slicer.org\\slicer 5.5.0-2023-08-19\\lib\\python\\lib\\site-packages (from google-api-core[grpc]!=2.0.*,!=2.1.*,!=2.10.*,!=2.2.*,!=2.3.*,!=2.4.*,!=2.5.*,!=2.6.*,!=2.7.*,!=2.8.*,!=2.9.*,<3.0.0dev,>=1.34.0->google-cloud-bigquery-storage) (1.58.0)\n",
      "Requirement already satisfied: cachetools<6.0,>=2.0.0 in c:\\users\\deepa\\appdata\\local\\slicer.org\\slicer 5.5.0-2023-08-19\\lib\\python\\lib\\site-packages (from google-auth<3.0.dev0,>=2.14.1->google-api-core[grpc]!=2.0.*,!=2.1.*,!=2.10.*,!=2.2.*,!=2.3.*,!=2.4.*,!=2.5.*,!=2.6.*,!=2.7.*,!=2.8.*,!=2.9.*,<3.0.0dev,>=1.34.0->google-cloud-bigquery-storage) (5.3.1)\n",
      "Requirement already satisfied: pyasn1-modules>=0.2.1 in c:\\users\\deepa\\appdata\\local\\slicer.org\\slicer 5.5.0-2023-08-19\\lib\\python\\lib\\site-packages (from google-auth<3.0.dev0,>=2.14.1->google-api-core[grpc]!=2.0.*,!=2.1.*,!=2.10.*,!=2.2.*,!=2.3.*,!=2.4.*,!=2.5.*,!=2.6.*,!=2.7.*,!=2.8.*,!=2.9.*,<3.0.0dev,>=1.34.0->google-cloud-bigquery-storage) (0.3.0)\n",
      "Requirement already satisfied: rsa<5,>=3.1.4 in c:\\users\\deepa\\appdata\\local\\slicer.org\\slicer 5.5.0-2023-08-19\\lib\\python\\lib\\site-packages (from google-auth<3.0.dev0,>=2.14.1->google-api-core[grpc]!=2.0.*,!=2.1.*,!=2.10.*,!=2.2.*,!=2.3.*,!=2.4.*,!=2.5.*,!=2.6.*,!=2.7.*,!=2.8.*,!=2.9.*,<3.0.0dev,>=1.34.0->google-cloud-bigquery-storage) (4.9)\n",
      "Requirement already satisfied: six>=1.9.0 in c:\\users\\deepa\\appdata\\local\\slicer.org\\slicer 5.5.0-2023-08-19\\lib\\python\\lib\\site-packages (from google-auth<3.0.dev0,>=2.14.1->google-api-core[grpc]!=2.0.*,!=2.1.*,!=2.10.*,!=2.2.*,!=2.3.*,!=2.4.*,!=2.5.*,!=2.6.*,!=2.7.*,!=2.8.*,!=2.9.*,<3.0.0dev,>=1.34.0->google-cloud-bigquery-storage) (1.16.0)\n",
      "Requirement already satisfied: urllib3<2.0 in c:\\users\\deepa\\appdata\\local\\slicer.org\\slicer 5.5.0-2023-08-19\\lib\\python\\lib\\site-packages (from google-auth<3.0.dev0,>=2.14.1->google-api-core[grpc]!=2.0.*,!=2.1.*,!=2.10.*,!=2.2.*,!=2.3.*,!=2.4.*,!=2.5.*,!=2.6.*,!=2.7.*,!=2.8.*,!=2.9.*,<3.0.0dev,>=1.34.0->google-cloud-bigquery-storage) (1.26.16)\n",
      "Requirement already satisfied: charset-normalizer<4,>=2 in c:\\users\\deepa\\appdata\\local\\slicer.org\\slicer 5.5.0-2023-08-19\\lib\\python\\lib\\site-packages (from requests<3.0.0.dev0,>=2.18.0->google-api-core[grpc]!=2.0.*,!=2.1.*,!=2.10.*,!=2.2.*,!=2.3.*,!=2.4.*,!=2.5.*,!=2.6.*,!=2.7.*,!=2.8.*,!=2.9.*,<3.0.0dev,>=1.34.0->google-cloud-bigquery-storage) (3.2.0)\n",
      "Requirement already satisfied: idna<4,>=2.5 in c:\\users\\deepa\\appdata\\local\\slicer.org\\slicer 5.5.0-2023-08-19\\lib\\python\\lib\\site-packages (from requests<3.0.0.dev0,>=2.18.0->google-api-core[grpc]!=2.0.*,!=2.1.*,!=2.10.*,!=2.2.*,!=2.3.*,!=2.4.*,!=2.5.*,!=2.6.*,!=2.7.*,!=2.8.*,!=2.9.*,<3.0.0dev,>=1.34.0->google-cloud-bigquery-storage) (3.4)\n",
      "Requirement already satisfied: certifi>=2017.4.17 in c:\\users\\deepa\\appdata\\local\\slicer.org\\slicer 5.5.0-2023-08-19\\lib\\python\\lib\\site-packages (from requests<3.0.0.dev0,>=2.18.0->google-api-core[grpc]!=2.0.*,!=2.1.*,!=2.10.*,!=2.2.*,!=2.3.*,!=2.4.*,!=2.5.*,!=2.6.*,!=2.7.*,!=2.8.*,!=2.9.*,<3.0.0dev,>=1.34.0->google-cloud-bigquery-storage) (2023.5.7)\n",
      "Requirement already satisfied: pyasn1<0.6.0,>=0.4.6 in c:\\users\\deepa\\appdata\\local\\slicer.org\\slicer 5.5.0-2023-08-19\\lib\\python\\lib\\site-packages (from pyasn1-modules>=0.2.1->google-auth<3.0.dev0,>=2.14.1->google-api-core[grpc]!=2.0.*,!=2.1.*,!=2.10.*,!=2.2.*,!=2.3.*,!=2.4.*,!=2.5.*,!=2.6.*,!=2.7.*,!=2.8.*,!=2.9.*,<3.0.0dev,>=1.34.0->google-cloud-bigquery-storage) (0.5.0)\n"
     ]
    },
    {
     "name": "stderr",
     "output_type": "stream",
     "text": []
    },
    {
     "name": "stderr",
     "output_type": "stream",
     "text": [
      "\n",
      "[notice] A new release of pip is available: 23.1.2 -> 23.2.1\n",
      "[notice] To update, run: C:\\Users\\deepa\\miniconda3\\python.exe -m pip install --upgrade pip\n"
     ]
    },
    {
     "name": "stdout",
     "output_type": "stream",
     "text": [
      "Requirement already satisfied: pyarrow in c:\\users\\deepa\\appdata\\local\\slicer.org\\slicer 5.5.0-2023-08-19\\lib\\python\\lib\\site-packages (13.0.0)\n",
      "Requirement already satisfied: numpy>=1.16.6 in c:\\users\\deepa\\appdata\\local\\slicer.org\\slicer 5.5.0-2023-08-19\\lib\\python\\lib\\site-packages (from pyarrow) (1.25.1)\n",
      "Requirement already satisfied: db-dtypes in c:\\users\\deepa\\appdata\\local\\slicer.org\\slicer 5.5.0-2023-08-19\\lib\\python\\lib\\site-packages (1.1.1)\n",
      "Requirement already satisfied: packaging>=17.0 in c:\\users\\deepa\\appdata\\local\\slicer.org\\slicer 5.5.0-2023-08-19\\lib\\python\\lib\\site-packages (from db-dtypes) (23.1)\n",
      "Requirement already satisfied: pandas>=0.24.2 in c:\\users\\deepa\\appdata\\local\\slicer.org\\slicer 5.5.0-2023-08-19\\lib\\python\\lib\\site-packages (from db-dtypes) (2.1.0)\n",
      "Requirement already satisfied: pyarrow>=3.0.0 in c:\\users\\deepa\\appdata\\local\\slicer.org\\slicer 5.5.0-2023-08-19\\lib\\python\\lib\\site-packages (from db-dtypes) (13.0.0)\n",
      "Requirement already satisfied: numpy>=1.16.6 in c:\\users\\deepa\\appdata\\local\\slicer.org\\slicer 5.5.0-2023-08-19\\lib\\python\\lib\\site-packages (from db-dtypes) (1.25.1)\n",
      "Requirement already satisfied: python-dateutil>=2.8.2 in c:\\users\\deepa\\appdata\\local\\slicer.org\\slicer 5.5.0-2023-08-19\\lib\\python\\lib\\site-packages (from pandas>=0.24.2->db-dtypes) (2.8.2)\n",
      "Requirement already satisfied: pytz>=2020.1 in c:\\users\\deepa\\appdata\\local\\slicer.org\\slicer 5.5.0-2023-08-19\\lib\\python\\lib\\site-packages (from pandas>=0.24.2->db-dtypes) (2023.3.post1)\n",
      "Requirement already satisfied: tzdata>=2022.1 in c:\\users\\deepa\\appdata\\local\\slicer.org\\slicer 5.5.0-2023-08-19\\lib\\python\\lib\\site-packages (from pandas>=0.24.2->db-dtypes) (2023.3)\n",
      "Requirement already satisfied: six>=1.5 in c:\\users\\deepa\\appdata\\local\\slicer.org\\slicer 5.5.0-2023-08-19\\lib\\python\\lib\\site-packages (from python-dateutil>=2.8.2->pandas>=0.24.2->db-dtypes) (1.16.0)\n"
     ]
    },
    {
     "name": "stderr",
     "output_type": "stream",
     "text": []
    },
    {
     "name": "stderr",
     "output_type": "stream",
     "text": [
      "\n",
      "[notice] A new release of pip is available: 23.1.2 -> 23.2.1\n",
      "[notice] To update, run: C:\\Users\\deepa\\miniconda3\\python.exe -m pip install --upgrade pip\n"
     ]
    }
   ],
   "source": [
    "!pip install google-cloud-bigquery-storage \n",
    "!pip install pyarrow\n",
    "!pip install db-dtypes"
   ]
  },
  {
   "cell_type": "code",
   "execution_count": 40,
   "id": "bbe07860-60f6-4deb-8121-a10b0ea0e2a4",
   "metadata": {},
   "outputs": [
    {
     "name": "stderr",
     "output_type": "stream",
     "text": [
      "Your browser has been opened to visit:\n",
      "\n",
      "    https://accounts.google.com/o/oauth2/auth?response_type=code&client_id=32555940559.apps.googleusercontent.com&redirect_uri=http%3A%2F%2Flocalhost%3A8085%2F&scope=openid+https%3A%2F%2Fwww.googleapis.com%2Fauth%2Fuserinfo.email+https%3A%2F%2Fwww.googleapis.com%2Fauth%2Fcloud-platform+https%3A%2F%2Fwww.googleapis.com%2Fauth%2Fappengine.admin+https%3A%2F%2Fwww.googleapis.com%2Fauth%2Fcompute+https%3A%2F%2Fwww.googleapis.com%2Fauth%2Faccounts.reauth&state=qC5Fyr00WncRpdoAYOUu7pGWyJI4UP&access_type=offline&code_challenge=W73SYG4-ZaY6jQtyXW8dDGxjEGmM9_quXQ8ZPkA31so&code_challenge_method=S256\n",
      "\n",
      "\n",
      "You are now logged in as [deepa.krishnaswamy1@gmail.com].\n",
      "Your current project is [idc-external-025].  You can change this setting by running:\n",
      "  $ gcloud config set project PROJECT_ID\n",
      "Updated property [core/project].\n"
     ]
    }
   ],
   "source": [
    "!gcloud auth login\n",
    "!gcloud config set project $project_id"
   ]
  },
  {
   "cell_type": "code",
   "execution_count": 43,
   "id": "73efe21e-1170-4ed3-9ddd-867523ba437c",
   "metadata": {},
   "outputs": [
    {
     "name": "stderr",
     "output_type": "stream",
     "text": [
      "ERROR: (gcloud.auth.activate-service-account) The .json key file is not in a valid format.\n"
     ]
    }
   ],
   "source": [
    "# jsonServiceAccountFile = \"D:\\\\deepa\\\\application_default_credentials.json\"\n",
    "# !gcloud auth activate-service-account --key-file={jsonServiceAccountFile}\n"
   ]
  },
  {
   "cell_type": "code",
   "execution_count": 48,
   "id": "f5b7339c-ee6a-48a8-94c2-347f45487ecf",
   "metadata": {},
   "outputs": [
    {
     "data": {
      "text/plain": [
       "<google.api_core.page_iterator.HTTPIterator at 0x28873057280>"
      ]
     },
     "execution_count": 48,
     "metadata": {},
     "output_type": "execute_result"
    }
   ],
   "source": [
    "client = bigquery.Client()\n"
   ]
  },
  {
   "cell_type": "code",
   "execution_count": 46,
   "id": "bee421a1-6954-45d1-bd63-15859c531d4d",
   "metadata": {},
   "outputs": [
    {
     "name": "stderr",
     "output_type": "stream",
     "text": [
      "\n",
      "ERROR:\n",
      " ('invalid_grant: Bad Request', {'error': 'invalid_grant', 'error_description': 'Bad Request'})\n"
     ]
    }
   ],
   "source": [
    "%%bigquery\n",
    "SELECT\n",
    "    source_year AS year,\n",
    "    COUNT(is_male) AS birth_count\n",
    "FROM `bigquery-public-data.samples.natality`\n",
    "GROUP BY year\n",
    "ORDER BY year DESC\n",
    "LIMIT 15"
   ]
  },
  {
   "cell_type": "code",
   "execution_count": 8,
   "id": "cb231eaf-6558-4b56-b940-6b9ae6b3fd68",
   "metadata": {},
   "outputs": [
    {
     "name": "stdout",
     "output_type": "stream",
     "text": [
      "found gcloud\n"
     ]
    }
   ],
   "source": [
    "# Setup gcloud \n",
    "import shutil \n",
    "args = [shutil.which('gcloud')]\n",
    "if (None in args):\n",
    "   logging.error(f\"Unable to locate gcloud, please install the Google Cloud SDK\")\n",
    "else: \n",
    "    print (\"found gcloud\")"
   ]
  },
  {
   "cell_type": "code",
   "execution_count": 15,
   "id": "590bd963-35eb-496b-ac6e-13c2d57566ef",
   "metadata": {},
   "outputs": [
    {
     "name": "stdout",
     "output_type": "stream",
     "text": [
      "env: CLOUDSDK_PYTHON=C:\\Users\\deepa\\AppData\\Local\\slicer.org\\Slicer 5.5.0-2023-08-19\\bin\\PythonSlicer.exe\n"
     ]
    }
   ],
   "source": [
    "%env CLOUDSDK_PYTHON=C:\\Users\\deepa\\AppData\\Local\\slicer.org\\Slicer 5.5.0-2023-08-19\\bin\\PythonSlicer.exe"
   ]
  },
  {
   "cell_type": "code",
   "execution_count": 22,
   "id": "cd3bdf66-e758-43b5-af9f-8f253f1ee404",
   "metadata": {
    "scrolled": true
   },
   "outputs": [
    {
     "name": "stdout",
     "output_type": "stream",
     "text": [
      "Requirement already satisfied: idna<4,>=2.5 in c:\\users\\deepa\\appdata\\local\\slicer.org\\slicer 5.5.0-2023-08-19\\lib\\python\\lib\\site-packages (from requests<3.0.0dev,>=2.21.0->google-cloud-bigquery[pandas]) (3.4)\n",
      "Requirement already satisfied: certifi>=2017.4.17 in c:\\users\\deepa\\appdata\\local\\slicer.org\\slicer 5.5.0-2023-08-19\\lib\\python\\lib\\site-packages (from requests<3.0.0dev,>=2.21.0->google-cloud-bigquery[pandas]) (2023.5.7)\n",
      "Requirement already satisfied: pyasn1<0.6.0,>=0.4.6 in c:\\users\\deepa\\appdata\\local\\slicer.org\\slicer 5.5.0-2023-08-19\\lib\\python\\lib\\site-packages (from pyasn1-modules>=0.2.1->google-auth<3.0dev,>=1.25.0->pydata-google-auth) (0.5.0)\n",
      "Collecting oauthlib>=3.0.0 (from requests-oauthlib>=0.7.0->google-auth-oauthlib>=0.4.0->pydata-google-auth)\n",
      "  Using cached oauthlib-3.2.2-py3-none-any.whl (151 kB)\n",
      "Installing collected packages: pyarrow, oauthlib, requests-oauthlib, google-auth-oauthlib, db-dtypes, pydata-google-auth\n",
      "Successfully installed db-dtypes-1.1.1 google-auth-oauthlib-1.1.0 oauthlib-3.2.2 pyarrow-13.0.0 pydata-google-auth-1.8.2 requests-oauthlib-1.3.1\n"
     ]
    },
    {
     "name": "stderr",
     "output_type": "stream",
     "text": [
      "  WARNING: The script google-oauthlib-tool.exe is installed in 'C:\\Users\\deepa\\AppData\\Local\\slicer.org\\Slicer 5.5.0-2023-08-19\\lib\\Python\\Scripts' which is not on PATH.\n",
      "  Consider adding this directory to PATH or, if you prefer to suppress this warning, use --no-warn-script-location.\n",
      "\n",
      "[notice] A new release of pip is available: 23.1.2 -> 23.2.1\n",
      "[notice] To update, run: C:\\Users\\deepa\\miniconda3\\python.exe -m pip install --upgrade pip\n"
     ]
    },
    {
     "name": "stdout",
     "output_type": "stream",
     "text": [
      "Please visit this URL to authorize this application: https://accounts.google.com/o/oauth2/auth?response_type=code&client_id=262006177488-3425ks60hkk80fssi9vpohv88g6q1iqd.apps.googleusercontent.com&redirect_uri=http%3A%2F%2Flocalhost%3A8080%2F&scope=https%3A%2F%2Fwww.googleapis.com%2Fauth%2Fbigquery&state=5o2HuElbp4xeNfMFUcdU5Dty3czJsJ&prompt=consent&access_type=offline\n"
     ]
    }
   ],
   "source": [
    "import pydata_google_auth\n",
    "credentials = pydata_google_auth.get_user_credentials(\n",
    "    ['https://www.googleapis.com/auth/bigquery'],\n",
    ")"
   ]
  },
  {
   "cell_type": "code",
   "execution_count": 23,
   "id": "469dc940-c029-433f-9df9-6263dd3c1fc0",
   "metadata": {},
   "outputs": [],
   "source": [
    "# Manifest - list of SeriesInstanceUIDs of the DICOM Segmentation objects \n",
    "manifest_file = \"C://Users//deepa//git//nlst_explore//manifest//manifest_list.txt\"\n",
    "gcs_file = \"C://Users//deepa//git//nlst_explore//manifest//gcs_list.txt\" \n",
    "\n",
    "# GCP settings \n",
    "project_id = \"idc-external-025\"\n",
    "dataset_id = \"total_segmentator_nlst_total_070823\"\n",
    "datastore_id = \"126k-series\"\n",
    "location_id = \"us-central1\"\n",
    "\n",
    "# table \n",
    "table_id = \"bigquery-public-datasets.idc_current.dicom_all\"\n",
    "\n",
    "# specify for now\n",
    "studyInstanceUID = \"1.2.840.113654.2.55.222358418596811829743750475747304078456\"\n",
    "seriesInstanceUID =\"1.2.276.0.7230010.3.1.3.313263360.50439.1688804452.744648\" \n",
    "sopInstanceUID = \"1.2.276.0.7230010.3.1.4.313263360.50439.1688804452.744649\""
   ]
  },
  {
   "cell_type": "code",
   "execution_count": 4,
   "id": "6d32c337-648f-4658-a3dc-9af45a92deb7",
   "metadata": {},
   "outputs": [
    {
     "name": "stderr",
     "output_type": "stream",
     "text": [
      "2023-09-13 22:30:10,122 | INFO     | dicomweb_client.web                      | retrieve instance \"1.2.276.0.7230010.3.1.4.313263360.50439.1688804452.744649\" of series \"1.2.276.0.7230010.3.1.3.313263360.50439.1688804452.744648\" of study \"1.2.840.113654.2.55.222358418596811829743750475747304078456\"\n"
     ]
    },
    {
     "data": {
      "text/plain": [
       "True"
      ]
     },
     "execution_count": 4,
     "metadata": {},
     "output_type": "execute_result"
    }
   ],
   "source": [
    "########################################################################\n",
    "#-- Download the DICOM segmentation objects from the DICOM datastore --#\n",
    "########################################################################\n",
    "\n",
    "# Setup gcloud \n",
    "import shutil \n",
    "args = [shutil.which('gcloud')]\n",
    "if (None in args):\n",
    "   logging.error(f\"Unable to locate gcloud, please install the Google Cloud SDK\")\n",
    "\n",
    "# Setup the DICOMwebClient \n",
    "url = f\"https://healthcare.googleapis.com/v1/projects/{project_id}/locations/{location_id}/datasets/{dataset_id}/dicomStores/{datastore_id}/dicomWeb\"\n",
    "session = None\n",
    "headers = {}\n",
    "headers[\"Authorization\"] = f\"Bearer {GoogleCloudPlatform().token()}\"\n",
    "DICOMwebClient = DICOMwebClient(url=url, session=session, headers=headers)\n",
    "\n",
    "# first set the downLoad directory \n",
    "downloadDirectory = os.path.join(slicer.dicomDatabase.databaseDirectory, 'tmp')\n",
    "if not os.path.isdir(downloadDirectory):\n",
    "  os.makedirs(downloadDirectory)\n",
    "\n",
    "# Retrieve the instance using the DICOM web client  \n",
    "retrievedInstance = DICOMwebClient.retrieve_instance(study_instance_uid=studyInstanceUID,\n",
    "                                                     series_instance_uid=seriesInstanceUID, \n",
    "                                                     sop_instance_uid=sopInstanceUID)\n",
    "\n",
    "# Write the file to a tmp folder \n",
    "pydicom.filewriter.write_file(os.path.join(downloadDirectory, \"seg.dcm\"), retrievedInstance)\n",
    "\n",
    "# Import file into the dicom database \n",
    "db = slicer.dicomDatabase\n",
    "DICOMUtils.importDicom(downloadDirectory,db)"
   ]
  },
  {
   "cell_type": "code",
   "execution_count": 30,
   "id": "7597b220-52c8-412d-a876-2cf9e209c4d1",
   "metadata": {},
   "outputs": [
    {
     "name": "stderr",
     "output_type": "stream",
     "text": [
      "Updated property [core/project].\n"
     ]
    }
   ],
   "source": [
    "!gcloud config set project $project_id"
   ]
  },
  {
   "cell_type": "code",
   "execution_count": 64,
   "id": "ccb04fca-106b-479f-a589-a066334df538",
   "metadata": {},
   "outputs": [
    {
     "ename": "<class 'ValueError'>",
     "evalue": "Please install the 'db-dtypes' package to use this function.",
     "output_type": "error",
     "traceback": [
      "\u001b[1;31m---------------------------------------------------------------------------\u001b[0m",
      "\u001b[1;31mModuleNotFoundError\u001b[0m                       Traceback (most recent call last)",
      "File \u001b[1;32m~\\AppData\\Local\\slicer.org\\Slicer 5.5.0-2023-08-19\\lib\\Python\\Lib\\site-packages\\google\\cloud\\bigquery\\_pandas_helpers.py:42\u001b[0m\n\u001b[0;32m     41\u001b[0m \u001b[38;5;28;01mtry\u001b[39;00m:\n\u001b[1;32m---> 42\u001b[0m     \u001b[38;5;28;01mimport\u001b[39;00m \u001b[38;5;21;01mdb_dtypes\u001b[39;00m  \u001b[38;5;66;03m# type: ignore\u001b[39;00m\n\u001b[0;32m     44\u001b[0m     date_dtype_name \u001b[38;5;241m=\u001b[39m db_dtypes\u001b[38;5;241m.\u001b[39mDateDtype\u001b[38;5;241m.\u001b[39mname\n",
      "\u001b[1;31mModuleNotFoundError\u001b[0m: No module named 'db_dtypes'",
      "\nThe above exception was the direct cause of the following exception:\n",
      "\u001b[1;31mValueError\u001b[0m                                Traceback (most recent call last)",
      "Cell \u001b[1;32mIn[64], line 18\u001b[0m\n\u001b[0;32m     14\u001b[0m job_config \u001b[38;5;241m=\u001b[39m bigquery\u001b[38;5;241m.\u001b[39mQueryJobConfig(query_parameters\u001b[38;5;241m=\u001b[39m[\n\u001b[0;32m     15\u001b[0m                                                        bigquery\u001b[38;5;241m.\u001b[39mScalarQueryParameter(\u001b[38;5;124m\"\u001b[39m\u001b[38;5;124mseries_id\u001b[39m\u001b[38;5;124m\"\u001b[39m, \u001b[38;5;124m\"\u001b[39m\u001b[38;5;124mSTRING\u001b[39m\u001b[38;5;124m\"\u001b[39m, seriesInstanceUID)\n\u001b[0;32m     16\u001b[0m                                                        ])\n\u001b[0;32m     17\u001b[0m result \u001b[38;5;241m=\u001b[39m client\u001b[38;5;241m.\u001b[39mquery(query, job_config\u001b[38;5;241m=\u001b[39mjob_config) \n\u001b[1;32m---> 18\u001b[0m series_df \u001b[38;5;241m=\u001b[39m result\u001b[38;5;241m.\u001b[39mto_dataframe(create_bqstorage_client\u001b[38;5;241m=\u001b[39m\u001b[38;5;28;01mTrue\u001b[39;00m)\n\u001b[0;32m     19\u001b[0m \u001b[38;5;28mprint\u001b[39m(series_df)\n",
      "File \u001b[1;32m~\\AppData\\Local\\slicer.org\\Slicer 5.5.0-2023-08-19\\lib\\Python\\Lib\\site-packages\\google\\cloud\\bigquery\\job\\query.py:1800\u001b[0m, in \u001b[0;36mQueryJob.to_dataframe\u001b[1;34m(self, bqstorage_client, dtypes, progress_bar_type, create_bqstorage_client, max_results, geography_as_object, bool_dtype, int_dtype, float_dtype, string_dtype, date_dtype, datetime_dtype, time_dtype, timestamp_dtype)\u001b[0m\n\u001b[0;32m   1650\u001b[0m \u001b[38;5;250m\u001b[39m\u001b[38;5;124;03m\"\"\"Return a pandas DataFrame from a QueryJob\u001b[39;00m\n\u001b[0;32m   1651\u001b[0m \n\u001b[0;32m   1652\u001b[0m \u001b[38;5;124;03mArgs:\u001b[39;00m\n\u001b[1;32m   (...)\u001b[0m\n\u001b[0;32m   1797\u001b[0m \u001b[38;5;124;03m        :mod:`shapely` library cannot be imported.\u001b[39;00m\n\u001b[0;32m   1798\u001b[0m \u001b[38;5;124;03m\"\"\"\u001b[39;00m\n\u001b[0;32m   1799\u001b[0m query_result \u001b[38;5;241m=\u001b[39m wait_for_query(\u001b[38;5;28mself\u001b[39m, progress_bar_type, max_results\u001b[38;5;241m=\u001b[39mmax_results)\n\u001b[1;32m-> 1800\u001b[0m \u001b[38;5;28;01mreturn\u001b[39;00m \u001b[43mquery_result\u001b[49m\u001b[38;5;241;43m.\u001b[39;49m\u001b[43mto_dataframe\u001b[49m\u001b[43m(\u001b[49m\n\u001b[0;32m   1801\u001b[0m \u001b[43m    \u001b[49m\u001b[43mbqstorage_client\u001b[49m\u001b[38;5;241;43m=\u001b[39;49m\u001b[43mbqstorage_client\u001b[49m\u001b[43m,\u001b[49m\n\u001b[0;32m   1802\u001b[0m \u001b[43m    \u001b[49m\u001b[43mdtypes\u001b[49m\u001b[38;5;241;43m=\u001b[39;49m\u001b[43mdtypes\u001b[49m\u001b[43m,\u001b[49m\n\u001b[0;32m   1803\u001b[0m \u001b[43m    \u001b[49m\u001b[43mprogress_bar_type\u001b[49m\u001b[38;5;241;43m=\u001b[39;49m\u001b[43mprogress_bar_type\u001b[49m\u001b[43m,\u001b[49m\n\u001b[0;32m   1804\u001b[0m \u001b[43m    \u001b[49m\u001b[43mcreate_bqstorage_client\u001b[49m\u001b[38;5;241;43m=\u001b[39;49m\u001b[43mcreate_bqstorage_client\u001b[49m\u001b[43m,\u001b[49m\n\u001b[0;32m   1805\u001b[0m \u001b[43m    \u001b[49m\u001b[43mgeography_as_object\u001b[49m\u001b[38;5;241;43m=\u001b[39;49m\u001b[43mgeography_as_object\u001b[49m\u001b[43m,\u001b[49m\n\u001b[0;32m   1806\u001b[0m \u001b[43m    \u001b[49m\u001b[43mbool_dtype\u001b[49m\u001b[38;5;241;43m=\u001b[39;49m\u001b[43mbool_dtype\u001b[49m\u001b[43m,\u001b[49m\n\u001b[0;32m   1807\u001b[0m \u001b[43m    \u001b[49m\u001b[43mint_dtype\u001b[49m\u001b[38;5;241;43m=\u001b[39;49m\u001b[43mint_dtype\u001b[49m\u001b[43m,\u001b[49m\n\u001b[0;32m   1808\u001b[0m \u001b[43m    \u001b[49m\u001b[43mfloat_dtype\u001b[49m\u001b[38;5;241;43m=\u001b[39;49m\u001b[43mfloat_dtype\u001b[49m\u001b[43m,\u001b[49m\n\u001b[0;32m   1809\u001b[0m \u001b[43m    \u001b[49m\u001b[43mstring_dtype\u001b[49m\u001b[38;5;241;43m=\u001b[39;49m\u001b[43mstring_dtype\u001b[49m\u001b[43m,\u001b[49m\n\u001b[0;32m   1810\u001b[0m \u001b[43m    \u001b[49m\u001b[43mdate_dtype\u001b[49m\u001b[38;5;241;43m=\u001b[39;49m\u001b[43mdate_dtype\u001b[49m\u001b[43m,\u001b[49m\n\u001b[0;32m   1811\u001b[0m \u001b[43m    \u001b[49m\u001b[43mdatetime_dtype\u001b[49m\u001b[38;5;241;43m=\u001b[39;49m\u001b[43mdatetime_dtype\u001b[49m\u001b[43m,\u001b[49m\n\u001b[0;32m   1812\u001b[0m \u001b[43m    \u001b[49m\u001b[43mtime_dtype\u001b[49m\u001b[38;5;241;43m=\u001b[39;49m\u001b[43mtime_dtype\u001b[49m\u001b[43m,\u001b[49m\n\u001b[0;32m   1813\u001b[0m \u001b[43m    \u001b[49m\u001b[43mtimestamp_dtype\u001b[49m\u001b[38;5;241;43m=\u001b[39;49m\u001b[43mtimestamp_dtype\u001b[49m\u001b[43m,\u001b[49m\n\u001b[0;32m   1814\u001b[0m \u001b[43m\u001b[49m\u001b[43m)\u001b[49m\n",
      "File \u001b[1;32m~\\AppData\\Local\\slicer.org\\Slicer 5.5.0-2023-08-19\\lib\\Python\\Lib\\site-packages\\google\\cloud\\bigquery\\table.py:2102\u001b[0m, in \u001b[0;36mRowIterator.to_dataframe\u001b[1;34m(self, bqstorage_client, dtypes, progress_bar_type, create_bqstorage_client, geography_as_object, bool_dtype, int_dtype, float_dtype, string_dtype, date_dtype, datetime_dtype, time_dtype, timestamp_dtype)\u001b[0m\n\u001b[0;32m   1931\u001b[0m \u001b[38;5;28;01mdef\u001b[39;00m \u001b[38;5;21mto_dataframe\u001b[39m(\n\u001b[0;32m   1932\u001b[0m     \u001b[38;5;28mself\u001b[39m,\n\u001b[0;32m   1933\u001b[0m     bqstorage_client: Optional[\u001b[38;5;124m\"\u001b[39m\u001b[38;5;124mbigquery_storage.BigQueryReadClient\u001b[39m\u001b[38;5;124m\"\u001b[39m] \u001b[38;5;241m=\u001b[39m \u001b[38;5;28;01mNone\u001b[39;00m,\n\u001b[1;32m   (...)\u001b[0m\n\u001b[0;32m   1945\u001b[0m     timestamp_dtype: Union[Any, \u001b[38;5;28;01mNone\u001b[39;00m] \u001b[38;5;241m=\u001b[39m \u001b[38;5;28;01mNone\u001b[39;00m,\n\u001b[0;32m   1946\u001b[0m ) \u001b[38;5;241m-\u001b[39m\u001b[38;5;241m>\u001b[39m \u001b[38;5;124m\"\u001b[39m\u001b[38;5;124mpandas.DataFrame\u001b[39m\u001b[38;5;124m\"\u001b[39m:\n\u001b[0;32m   1947\u001b[0m \u001b[38;5;250m    \u001b[39m\u001b[38;5;124;03m\"\"\"Create a pandas DataFrame by loading all pages of a query.\u001b[39;00m\n\u001b[0;32m   1948\u001b[0m \n\u001b[0;32m   1949\u001b[0m \u001b[38;5;124;03m    Args:\u001b[39;00m\n\u001b[1;32m   (...)\u001b[0m\n\u001b[0;32m   2100\u001b[0m \n\u001b[0;32m   2101\u001b[0m \u001b[38;5;124;03m    \"\"\"\u001b[39;00m\n\u001b[1;32m-> 2102\u001b[0m     \u001b[43m_pandas_helpers\u001b[49m\u001b[38;5;241;43m.\u001b[39;49m\u001b[43mverify_pandas_imports\u001b[49m\u001b[43m(\u001b[49m\u001b[43m)\u001b[49m\n\u001b[0;32m   2104\u001b[0m     \u001b[38;5;28;01mif\u001b[39;00m geography_as_object \u001b[38;5;129;01mand\u001b[39;00m shapely \u001b[38;5;129;01mis\u001b[39;00m \u001b[38;5;28;01mNone\u001b[39;00m:\n\u001b[0;32m   2105\u001b[0m         \u001b[38;5;28;01mraise\u001b[39;00m \u001b[38;5;167;01mValueError\u001b[39;00m(_NO_SHAPELY_ERROR)\n",
      "File \u001b[1;32m~\\AppData\\Local\\slicer.org\\Slicer 5.5.0-2023-08-19\\lib\\Python\\Lib\\site-packages\\google\\cloud\\bigquery\\_pandas_helpers.py:1038\u001b[0m, in \u001b[0;36mverify_pandas_imports\u001b[1;34m()\u001b[0m\n\u001b[0;32m   1036\u001b[0m     \u001b[38;5;28;01mraise\u001b[39;00m \u001b[38;5;167;01mValueError\u001b[39;00m(_NO_PANDAS_ERROR) \u001b[38;5;28;01mfrom\u001b[39;00m \u001b[38;5;21;01mpandas_import_exception\u001b[39;00m\n\u001b[0;32m   1037\u001b[0m \u001b[38;5;28;01mif\u001b[39;00m db_dtypes \u001b[38;5;129;01mis\u001b[39;00m \u001b[38;5;28;01mNone\u001b[39;00m:\n\u001b[1;32m-> 1038\u001b[0m     \u001b[38;5;28;01mraise\u001b[39;00m \u001b[38;5;167;01mValueError\u001b[39;00m(_NO_DB_TYPES_ERROR) \u001b[38;5;28;01mfrom\u001b[39;00m \u001b[38;5;21;01mdb_dtypes_import_exception\u001b[39;00m\n",
      "\u001b[1;31mValueError\u001b[0m: Please install the 'db-dtypes' package to use this function."
     ]
    }
   ],
   "source": [
    "# Select all files from GCS for a given DICOM series\n",
    "\n",
    "# client = bigquery.Client(project=project_id)\n",
    "\n",
    "query = f\"\"\"\n",
    "SELECT \n",
    "  DISTINCT(CONCAT(\"cp s3://\", SPLIT(gcs_url,\"/\")[SAFE_OFFSET(2)], \"/\", crdc_series_uuid, \"/* .\")) \n",
    "FROM \n",
    "    `bigquery-public-data.idc_current.dicom_all`\n",
    "WHERE \n",
    "  SeriesInstanceUID = @series_id;\n",
    "\"\"\"\n",
    "\n",
    "job_config = bigquery.QueryJobConfig(query_parameters=[\n",
    "                                                       bigquery.ScalarQueryParameter(\"series_id\", \"STRING\", seriesInstanceUID)\n",
    "                                                       ])\n",
    "result = client.query(query, job_config=job_config) \n",
    "series_df = result.to_dataframe(create_bqstorage_client=True)\n",
    "print(series_df)"
   ]
  },
  {
   "cell_type": "code",
   "execution_count": 58,
   "id": "53a15076-0301-4d52-89ae-80c83c14447e",
   "metadata": {},
   "outputs": [
    {
     "data": {
      "text/plain": [
       "QueryJob<project=idc-external-025, location=US, id=a150dbf7-b2df-48e1-a900-395877c9a0dd>"
      ]
     },
     "execution_count": 58,
     "metadata": {},
     "output_type": "execute_result"
    }
   ],
   "source": [
    "result."
   ]
  },
  {
   "cell_type": "code",
   "execution_count": 62,
   "id": "7d645483-225f-4717-8ac5-d1718e5e5ac2",
   "metadata": {},
   "outputs": [
    {
     "name": "stderr",
     "output_type": "stream",
     "text": []
    },
    {
     "name": "stderr",
     "output_type": "stream",
     "text": [
      "\n",
      "[notice] A new release of pip is available: 23.1.2 -> 23.2.1\n",
      "[notice] To update, run: C:\\Users\\deepa\\miniconda3\\python.exe -m pip install --upgrade pip\n"
     ]
    },
    {
     "name": "stdout",
     "output_type": "stream",
     "text": [
      "Requirement already satisfied: google-cloud-bigquery[pandas] in c:\\users\\deepa\\appdata\\local\\slicer.org\\slicer 5.5.0-2023-08-19\\lib\\python\\lib\\site-packages (3.11.4)\n",
      "Requirement already satisfied: grpcio<2.0dev,>=1.47.0 in c:\\users\\deepa\\appdata\\local\\slicer.org\\slicer 5.5.0-2023-08-19\\lib\\python\\lib\\site-packages (from google-cloud-bigquery[pandas]) (1.58.0)\n",
      "Requirement already satisfied: google-api-core[grpc]!=2.0.*,!=2.1.*,!=2.2.*,!=2.3.0,<3.0.0dev,>=1.31.5 in c:\\users\\deepa\\appdata\\local\\slicer.org\\slicer 5.5.0-2023-08-19\\lib\\python\\lib\\site-packages (from google-cloud-bigquery[pandas]) (2.11.1)\n",
      "Requirement already satisfied: proto-plus<2.0.0dev,>=1.15.0 in c:\\users\\deepa\\appdata\\local\\slicer.org\\slicer 5.5.0-2023-08-19\\lib\\python\\lib\\site-packages (from google-cloud-bigquery[pandas]) (1.22.3)\n",
      "Requirement already satisfied: google-cloud-core<3.0.0dev,>=1.6.0 in c:\\users\\deepa\\appdata\\local\\slicer.org\\slicer 5.5.0-2023-08-19\\lib\\python\\lib\\site-packages (from google-cloud-bigquery[pandas]) (2.3.3)\n",
      "Requirement already satisfied: google-resumable-media<3.0dev,>=0.6.0 in c:\\users\\deepa\\appdata\\local\\slicer.org\\slicer 5.5.0-2023-08-19\\lib\\python\\lib\\site-packages (from google-cloud-bigquery[pandas]) (2.6.0)\n",
      "Requirement already satisfied: packaging>=20.0.0 in c:\\users\\deepa\\appdata\\local\\slicer.org\\slicer 5.5.0-2023-08-19\\lib\\python\\lib\\site-packages (from google-cloud-bigquery[pandas]) (23.1)\n",
      "Requirement already satisfied: protobuf!=3.20.0,!=3.20.1,!=4.21.0,!=4.21.1,!=4.21.2,!=4.21.3,!=4.21.4,!=4.21.5,<5.0.0dev,>=3.19.5 in c:\\users\\deepa\\appdata\\local\\slicer.org\\slicer 5.5.0-2023-08-19\\lib\\python\\lib\\site-packages (from google-cloud-bigquery[pandas]) (4.24.3)\n",
      "Requirement already satisfied: python-dateutil<3.0dev,>=2.7.2 in c:\\users\\deepa\\appdata\\local\\slicer.org\\slicer 5.5.0-2023-08-19\\lib\\python\\lib\\site-packages (from google-cloud-bigquery[pandas]) (2.8.2)\n",
      "Requirement already satisfied: requests<3.0.0dev,>=2.21.0 in c:\\users\\deepa\\appdata\\local\\slicer.org\\slicer 5.5.0-2023-08-19\\lib\\python\\lib\\site-packages (from google-cloud-bigquery[pandas]) (2.31.0)\n",
      "Requirement already satisfied: pandas>=1.1.0 in c:\\users\\deepa\\appdata\\local\\slicer.org\\slicer 5.5.0-2023-08-19\\lib\\python\\lib\\site-packages (from google-cloud-bigquery[pandas]) (2.1.0)\n",
      "Requirement already satisfied: pyarrow>=3.0.0 in c:\\users\\deepa\\appdata\\local\\slicer.org\\slicer 5.5.0-2023-08-19\\lib\\python\\lib\\site-packages (from google-cloud-bigquery[pandas]) (13.0.0)\n",
      "Requirement already satisfied: db-dtypes<2.0.0dev,>=0.3.0 in c:\\users\\deepa\\appdata\\local\\slicer.org\\slicer 5.5.0-2023-08-19\\lib\\python\\lib\\site-packages (from google-cloud-bigquery[pandas]) (1.1.1)\n",
      "Requirement already satisfied: numpy>=1.16.6 in c:\\users\\deepa\\appdata\\local\\slicer.org\\slicer 5.5.0-2023-08-19\\lib\\python\\lib\\site-packages (from db-dtypes<2.0.0dev,>=0.3.0->google-cloud-bigquery[pandas]) (1.25.1)\n",
      "Requirement already satisfied: googleapis-common-protos<2.0.dev0,>=1.56.2 in c:\\users\\deepa\\appdata\\local\\slicer.org\\slicer 5.5.0-2023-08-19\\lib\\python\\lib\\site-packages (from google-api-core[grpc]!=2.0.*,!=2.1.*,!=2.2.*,!=2.3.0,<3.0.0dev,>=1.31.5->google-cloud-bigquery[pandas]) (1.60.0)\n",
      "Requirement already satisfied: google-auth<3.0.dev0,>=2.14.1 in c:\\users\\deepa\\appdata\\local\\slicer.org\\slicer 5.5.0-2023-08-19\\lib\\python\\lib\\site-packages (from google-api-core[grpc]!=2.0.*,!=2.1.*,!=2.2.*,!=2.3.0,<3.0.0dev,>=1.31.5->google-cloud-bigquery[pandas]) (2.22.0)\n",
      "Requirement already satisfied: grpcio-status<2.0.dev0,>=1.33.2 in c:\\users\\deepa\\appdata\\local\\slicer.org\\slicer 5.5.0-2023-08-19\\lib\\python\\lib\\site-packages (from google-api-core[grpc]!=2.0.*,!=2.1.*,!=2.2.*,!=2.3.0,<3.0.0dev,>=1.31.5->google-cloud-bigquery[pandas]) (1.58.0)\n",
      "Requirement already satisfied: google-crc32c<2.0dev,>=1.0 in c:\\users\\deepa\\appdata\\local\\slicer.org\\slicer 5.5.0-2023-08-19\\lib\\python\\lib\\site-packages (from google-resumable-media<3.0dev,>=0.6.0->google-cloud-bigquery[pandas]) (1.5.0)\n",
      "Requirement already satisfied: pytz>=2020.1 in c:\\users\\deepa\\appdata\\local\\slicer.org\\slicer 5.5.0-2023-08-19\\lib\\python\\lib\\site-packages (from pandas>=1.1.0->google-cloud-bigquery[pandas]) (2023.3.post1)\n",
      "Requirement already satisfied: tzdata>=2022.1 in c:\\users\\deepa\\appdata\\local\\slicer.org\\slicer 5.5.0-2023-08-19\\lib\\python\\lib\\site-packages (from pandas>=1.1.0->google-cloud-bigquery[pandas]) (2023.3)\n",
      "Requirement already satisfied: six>=1.5 in c:\\users\\deepa\\appdata\\local\\slicer.org\\slicer 5.5.0-2023-08-19\\lib\\python\\lib\\site-packages (from python-dateutil<3.0dev,>=2.7.2->google-cloud-bigquery[pandas]) (1.16.0)\n",
      "Requirement already satisfied: charset-normalizer<4,>=2 in c:\\users\\deepa\\appdata\\local\\slicer.org\\slicer 5.5.0-2023-08-19\\lib\\python\\lib\\site-packages (from requests<3.0.0dev,>=2.21.0->google-cloud-bigquery[pandas]) (3.2.0)\n",
      "Requirement already satisfied: idna<4,>=2.5 in c:\\users\\deepa\\appdata\\local\\slicer.org\\slicer 5.5.0-2023-08-19\\lib\\python\\lib\\site-packages (from requests<3.0.0dev,>=2.21.0->google-cloud-bigquery[pandas]) (3.4)\n",
      "Requirement already satisfied: urllib3<3,>=1.21.1 in c:\\users\\deepa\\appdata\\local\\slicer.org\\slicer 5.5.0-2023-08-19\\lib\\python\\lib\\site-packages (from requests<3.0.0dev,>=2.21.0->google-cloud-bigquery[pandas]) (1.26.16)\n",
      "Requirement already satisfied: certifi>=2017.4.17 in c:\\users\\deepa\\appdata\\local\\slicer.org\\slicer 5.5.0-2023-08-19\\lib\\python\\lib\\site-packages (from requests<3.0.0dev,>=2.21.0->google-cloud-bigquery[pandas]) (2023.5.7)\n",
      "Requirement already satisfied: cachetools<6.0,>=2.0.0 in c:\\users\\deepa\\appdata\\local\\slicer.org\\slicer 5.5.0-2023-08-19\\lib\\python\\lib\\site-packages (from google-auth<3.0.dev0,>=2.14.1->google-api-core[grpc]!=2.0.*,!=2.1.*,!=2.2.*,!=2.3.0,<3.0.0dev,>=1.31.5->google-cloud-bigquery[pandas]) (5.3.1)\n",
      "Requirement already satisfied: pyasn1-modules>=0.2.1 in c:\\users\\deepa\\appdata\\local\\slicer.org\\slicer 5.5.0-2023-08-19\\lib\\python\\lib\\site-packages (from google-auth<3.0.dev0,>=2.14.1->google-api-core[grpc]!=2.0.*,!=2.1.*,!=2.2.*,!=2.3.0,<3.0.0dev,>=1.31.5->google-cloud-bigquery[pandas]) (0.3.0)\n",
      "Requirement already satisfied: rsa<5,>=3.1.4 in c:\\users\\deepa\\appdata\\local\\slicer.org\\slicer 5.5.0-2023-08-19\\lib\\python\\lib\\site-packages (from google-auth<3.0.dev0,>=2.14.1->google-api-core[grpc]!=2.0.*,!=2.1.*,!=2.2.*,!=2.3.0,<3.0.0dev,>=1.31.5->google-cloud-bigquery[pandas]) (4.9)\n",
      "Requirement already satisfied: pyasn1<0.6.0,>=0.4.6 in c:\\users\\deepa\\appdata\\local\\slicer.org\\slicer 5.5.0-2023-08-19\\lib\\python\\lib\\site-packages (from pyasn1-modules>=0.2.1->google-auth<3.0.dev0,>=2.14.1->google-api-core[grpc]!=2.0.*,!=2.1.*,!=2.2.*,!=2.3.0,<3.0.0dev,>=1.31.5->google-cloud-bigquery[pandas]) (0.5.0)\n"
     ]
    }
   ],
   "source": [
    "\n",
    "!pip install google-cloud-bigquery[pandas]"
   ]
  },
  {
   "cell_type": "code",
   "execution_count": null,
   "id": "219cb3ff-9ea5-4d5a-88c8-3e10e8a62d64",
   "metadata": {},
   "outputs": [],
   "source": [
    "# export GOOGLE_APPLICATION_CREDENTIALS=/path/to/keyfile.json\n"
   ]
  }
 ],
 "metadata": {
  "kernelspec": {
   "display_name": "Slicer 5.5",
   "language": "python",
   "name": "slicer-5.5"
  },
  "language_info": {
   "file_extension": ".py",
   "mimetype": "text/x-python",
   "name": "python",
   "version": "3.9.10"
  }
 },
 "nbformat": 4,
 "nbformat_minor": 5
}
